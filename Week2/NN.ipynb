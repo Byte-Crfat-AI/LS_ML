{
 "cells": [
  {
   "cell_type": "code",
   "execution_count": 1,
   "id": "f19cffdc",
   "metadata": {},
   "outputs": [
    {
     "name": "stdout",
     "output_type": "stream",
     "text": [
      "WARNING:tensorflow:From C:\\Users\\HARISH NARRENDRAN\\anaconda3\\Lib\\site-packages\\keras\\src\\losses.py:2976: The name tf.losses.sparse_softmax_cross_entropy is deprecated. Please use tf.compat.v1.losses.sparse_softmax_cross_entropy instead.\n",
      "\n"
     ]
    }
   ],
   "source": [
    "from PIL import Image\n",
    "import os\n",
    "import numpy as np\n",
    "import tensorflow as tf\n",
    "from tensorflow.keras.layers import Input,Dense,Flatten,Rescaling,Dropout\n",
    "from tensorflow.keras.models import Sequential,Model\n",
    "from sklearn.model_selection import train_test_split"
   ]
  },
  {
   "cell_type": "code",
   "execution_count": 2,
   "id": "b28e75b5",
   "metadata": {},
   "outputs": [
    {
     "name": "stdout",
     "output_type": "stream",
     "text": [
      "Loaded 109 Homer images.\n",
      "Loaded 160 Bart images.\n",
      "Shape of input(64, 64, 3)\n"
     ]
    }
   ],
   "source": [
    "def load_bmp_images(folder_path, target_size=(64, 64)):\n",
    "    images = []\n",
    "    for filename in os.listdir(folder_path):\n",
    "        if filename.endswith('.bmp'):\n",
    "            img_path = os.path.join(folder_path, filename)\n",
    "            img = Image.open(img_path).resize(target_size)  # Resize image to 64x64\n",
    "            images.append(np.array(img))  # Convert image to numpy array and append\n",
    "    return images\n",
    "homer_folder = r'C:\\Users\\HARISH NARRENDRAN\\Downloads\\homer_bart\\Homer'\n",
    "bart_folder = r'C:\\Users\\HARISH NARRENDRAN\\Downloads\\homer_bart\\Bart'\n",
    "#loading the images into an np array\n",
    "Home = np.array(load_bmp_images(homer_folder))\n",
    "Bart = np.array(load_bmp_images(bart_folder))\n",
    "#creating labels for the images 0 for Home and 1 for bart\n",
    "Home_label = np.zeros(len(Home))\n",
    "Bart_label = np.ones(len(Bart))\n",
    "#Joining the datas and corresponding labels\n",
    "Data = np.concatenate((Home,Bart))\n",
    "Label = np.concatenate((Home_label,Bart_label))\n",
    "#Shuffling the data\n",
    "np.random.seed(47)\n",
    "perm  = np.random.permutation((len(Data)))\n",
    "Data = Data[perm]\n",
    "Label = Label[perm]\n",
    "print(f\"Loaded {len(Home)} Homer images.\")\n",
    "print(f\"Loaded {len(Bart)} Bart images.\")\n",
    "print(f\"Shape of input{Data[0].shape}\")"
   ]
  },
  {
   "cell_type": "code",
   "execution_count": 3,
   "id": "67fd02ae",
   "metadata": {},
   "outputs": [],
   "source": [
    "X_train, X_test, y_train, y_test = train_test_split(Data, Label, test_size=0.1,shuffle=False,random_state=42)"
   ]
  },
  {
   "cell_type": "code",
   "execution_count": 4,
   "id": "1db91ef4",
   "metadata": {},
   "outputs": [
    {
     "name": "stdout",
     "output_type": "stream",
     "text": [
      "WARNING:tensorflow:From C:\\Users\\HARISH NARRENDRAN\\anaconda3\\Lib\\site-packages\\keras\\src\\backend.py:873: The name tf.get_default_graph is deprecated. Please use tf.compat.v1.get_default_graph instead.\n",
      "\n",
      "Model: \"sequential\"\n",
      "_________________________________________________________________\n",
      " Layer (type)                Output Shape              Param #   \n",
      "=================================================================\n",
      " flatten (Flatten)           (None, 12288)             0         \n",
      "                                                                 \n",
      " rescaling (Rescaling)       (None, 12288)             0         \n",
      "                                                                 \n",
      " dense (Dense)               (None, 128)               1572992   \n",
      "                                                                 \n",
      " dense_1 (Dense)             (None, 32)                4128      \n",
      "                                                                 \n",
      " dense_2 (Dense)             (None, 16)                528       \n",
      "                                                                 \n",
      " dense_3 (Dense)             (None, 1)                 17        \n",
      "                                                                 \n",
      "=================================================================\n",
      "Total params: 1577665 (6.02 MB)\n",
      "Trainable params: 1577665 (6.02 MB)\n",
      "Non-trainable params: 0 (0.00 Byte)\n",
      "_________________________________________________________________\n"
     ]
    }
   ],
   "source": [
    "#Model\n",
    "input_shape = (64, 64, 3)\n",
    "model = Sequential([\n",
    "    Flatten(input_shape = input_shape),\n",
    "    Rescaling(1.0/255.0),\n",
    "#     Dense(512,activation = 'relu'),\n",
    "#     Dense(256,activation = 'relu'),\n",
    "    Dense(128,activation = 'relu'),\n",
    "#     Dense(64,activation = 'relu'),\n",
    "    Dense(32,activation = 'relu'),\n",
    "    Dense(16,activation  = 'relu'),\n",
    "    Dense(1,activation = 'sigmoid')\n",
    "])\n",
    "model.summary()"
   ]
  },
  {
   "cell_type": "code",
   "execution_count": 5,
   "id": "bb27a289",
   "metadata": {},
   "outputs": [
    {
     "name": "stdout",
     "output_type": "stream",
     "text": [
      "WARNING:tensorflow:From C:\\Users\\HARISH NARRENDRAN\\anaconda3\\Lib\\site-packages\\keras\\src\\optimizers\\__init__.py:309: The name tf.train.Optimizer is deprecated. Please use tf.compat.v1.train.Optimizer instead.\n",
      "\n"
     ]
    }
   ],
   "source": [
    "model.compile(optimizer = 'adam',loss='binary_crossentropy',metrics=['accuracy'])"
   ]
  },
  {
   "cell_type": "code",
   "execution_count": 6,
   "id": "ead23776",
   "metadata": {},
   "outputs": [
    {
     "name": "stdout",
     "output_type": "stream",
     "text": [
      "Epoch 1/5\n",
      "WARNING:tensorflow:From C:\\Users\\HARISH NARRENDRAN\\anaconda3\\Lib\\site-packages\\keras\\src\\utils\\tf_utils.py:492: The name tf.ragged.RaggedTensorValue is deprecated. Please use tf.compat.v1.ragged.RaggedTensorValue instead.\n",
      "\n",
      "WARNING:tensorflow:From C:\\Users\\HARISH NARRENDRAN\\anaconda3\\Lib\\site-packages\\keras\\src\\engine\\base_layer_utils.py:384: The name tf.executing_eagerly_outside_functions is deprecated. Please use tf.compat.v1.executing_eagerly_outside_functions instead.\n",
      "\n",
      "16/16 [==============================] - 2s 16ms/step - loss: 1.4557 - accuracy: 0.5455\n",
      "Epoch 2/5\n",
      "16/16 [==============================] - 0s 14ms/step - loss: 0.6019 - accuracy: 0.6694\n",
      "Epoch 3/5\n",
      "16/16 [==============================] - 0s 14ms/step - loss: 0.7585 - accuracy: 0.5785\n",
      "Epoch 4/5\n",
      "16/16 [==============================] - 0s 15ms/step - loss: 0.5460 - accuracy: 0.7479\n",
      "Epoch 5/5\n",
      "16/16 [==============================] - 0s 14ms/step - loss: 0.5071 - accuracy: 0.7810\n"
     ]
    },
    {
     "data": {
      "text/plain": [
       "<keras.src.callbacks.History at 0x26a2ec8ced0>"
      ]
     },
     "execution_count": 6,
     "metadata": {},
     "output_type": "execute_result"
    }
   ],
   "source": [
    "model.fit(X_train,y_train,epochs = 5,batch_size=16)"
   ]
  },
  {
   "cell_type": "code",
   "execution_count": 7,
   "id": "d538d064",
   "metadata": {},
   "outputs": [
    {
     "name": "stdout",
     "output_type": "stream",
     "text": [
      "1/1 [==============================] - 0s 321ms/step - loss: 0.4789 - accuracy: 0.8148\n",
      "Test accuracy: 81.48%\n"
     ]
    }
   ],
   "source": [
    "test_loss, test_accuracy = model.evaluate(X_test,y_test)\n",
    "print(f'Test accuracy: {test_accuracy * 100:.2f}%')"
   ]
  },
  {
   "cell_type": "code",
   "execution_count": 8,
   "id": "54371c11",
   "metadata": {},
   "outputs": [],
   "source": []
  }
 ],
 "metadata": {
  "kernelspec": {
   "display_name": "Python 3 (ipykernel)",
   "language": "python",
   "name": "python3"
  },
  "language_info": {
   "codemirror_mode": {
    "name": "ipython",
    "version": 3
   },
   "file_extension": ".py",
   "mimetype": "text/x-python",
   "name": "python",
   "nbconvert_exporter": "python",
   "pygments_lexer": "ipython3",
   "version": "3.11.5"
  }
 },
 "nbformat": 4,
 "nbformat_minor": 5
}
